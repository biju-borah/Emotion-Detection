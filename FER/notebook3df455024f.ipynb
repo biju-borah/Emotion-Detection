{
 "cells": [
  {
   "cell_type": "code",
   "execution_count": 1,
   "id": "4487e51a",
   "metadata": {
    "execution": {
     "iopub.execute_input": "2022-06-21T07:05:22.153213Z",
     "iopub.status.busy": "2022-06-21T07:05:22.152718Z",
     "iopub.status.idle": "2022-06-21T07:05:27.537722Z",
     "shell.execute_reply": "2022-06-21T07:05:27.536874Z"
    },
    "papermill": {
     "duration": 5.398708,
     "end_time": "2022-06-21T07:05:27.540401",
     "exception": false,
     "start_time": "2022-06-21T07:05:22.141693",
     "status": "completed"
    },
    "tags": []
   },
   "outputs": [],
   "source": [
    "from keras.applications.vgg16 import VGG16\n",
    "from keras.preprocessing.image import ImageDataGenerator\n",
    "from keras.models import Sequential\n",
    "from keras.layers import Dense,Dropout,Flatten,Input\n",
    "from keras.layers import Conv2D,MaxPooling2D\n",
    "import os\n",
    "from matplotlib import pyplot as plt\n",
    "import numpy as np"
   ]
  },
  {
   "cell_type": "code",
   "execution_count": 2,
   "id": "14dabdf4",
   "metadata": {
    "execution": {
     "iopub.execute_input": "2022-06-21T07:05:27.554171Z",
     "iopub.status.busy": "2022-06-21T07:05:27.553554Z",
     "iopub.status.idle": "2022-06-21T07:05:27.558059Z",
     "shell.execute_reply": "2022-06-21T07:05:27.557200Z"
    },
    "papermill": {
     "duration": 0.013355,
     "end_time": "2022-06-21T07:05:27.559937",
     "exception": false,
     "start_time": "2022-06-21T07:05:27.546582",
     "status": "completed"
    },
    "tags": []
   },
   "outputs": [],
   "source": [
    "IMG_HEIGHT= 48\n",
    "IMG_WIDTH = 48\n",
    "batch_size= 32"
   ]
  },
  {
   "cell_type": "code",
   "execution_count": 3,
   "id": "916cb107",
   "metadata": {
    "execution": {
     "iopub.execute_input": "2022-06-21T07:05:27.572395Z",
     "iopub.status.busy": "2022-06-21T07:05:27.572123Z",
     "iopub.status.idle": "2022-06-21T07:05:27.575762Z",
     "shell.execute_reply": "2022-06-21T07:05:27.574990Z"
    },
    "papermill": {
     "duration": 0.011705,
     "end_time": "2022-06-21T07:05:27.577519",
     "exception": false,
     "start_time": "2022-06-21T07:05:27.565814",
     "status": "completed"
    },
    "tags": []
   },
   "outputs": [],
   "source": [
    "train_data_dir='../input/fer2013/train/'\n",
    "validation_data_dir='../input/fer2013/test/'"
   ]
  },
  {
   "cell_type": "code",
   "execution_count": 4,
   "id": "31829ff2",
   "metadata": {
    "execution": {
     "iopub.execute_input": "2022-06-21T07:05:27.589622Z",
     "iopub.status.busy": "2022-06-21T07:05:27.589367Z",
     "iopub.status.idle": "2022-06-21T07:05:27.593769Z",
     "shell.execute_reply": "2022-06-21T07:05:27.592938Z"
    },
    "papermill": {
     "duration": 0.012559,
     "end_time": "2022-06-21T07:05:27.595614",
     "exception": false,
     "start_time": "2022-06-21T07:05:27.583055",
     "status": "completed"
    },
    "tags": []
   },
   "outputs": [],
   "source": [
    "train_datagen = ImageDataGenerator(\n",
    "\t\t\t\t\trescale=1./255,\n",
    "\t\t\t\t\trotation_range=30,\n",
    "\t\t\t\t\tshear_range=0.3,\n",
    "\t\t\t\t\tzoom_range=0.3,\n",
    "\t\t\t\t\thorizontal_flip=True,\n",
    "\t\t\t\t\tfill_mode='nearest')"
   ]
  },
  {
   "cell_type": "code",
   "execution_count": 5,
   "id": "1690a889",
   "metadata": {
    "execution": {
     "iopub.execute_input": "2022-06-21T07:05:27.608183Z",
     "iopub.status.busy": "2022-06-21T07:05:27.607675Z",
     "iopub.status.idle": "2022-06-21T07:05:27.611831Z",
     "shell.execute_reply": "2022-06-21T07:05:27.610930Z"
    },
    "papermill": {
     "duration": 0.012419,
     "end_time": "2022-06-21T07:05:27.613647",
     "exception": false,
     "start_time": "2022-06-21T07:05:27.601228",
     "status": "completed"
    },
    "tags": []
   },
   "outputs": [],
   "source": [
    "validation_datagen = ImageDataGenerator(rescale=1./255)"
   ]
  },
  {
   "cell_type": "code",
   "execution_count": 6,
   "id": "c3ca2db7",
   "metadata": {
    "execution": {
     "iopub.execute_input": "2022-06-21T07:05:27.626216Z",
     "iopub.status.busy": "2022-06-21T07:05:27.625922Z",
     "iopub.status.idle": "2022-06-21T07:05:40.813407Z",
     "shell.execute_reply": "2022-06-21T07:05:40.812434Z"
    },
    "papermill": {
     "duration": 13.196507,
     "end_time": "2022-06-21T07:05:40.815886",
     "exception": false,
     "start_time": "2022-06-21T07:05:27.619379",
     "status": "completed"
    },
    "tags": []
   },
   "outputs": [
    {
     "name": "stdout",
     "output_type": "stream",
     "text": [
      "Found 28709 images belonging to 7 classes.\n",
      "Found 7178 images belonging to 7 classes.\n"
     ]
    }
   ],
   "source": [
    "train_generator = train_datagen.flow_from_directory(\n",
    "\t\t\t\t\ttrain_data_dir,\n",
    "\t\t\t\t\t#color_mode='grayscale',\n",
    "\t\t\t\t\ttarget_size=(IMG_HEIGHT, IMG_WIDTH),\n",
    "\t\t\t\t\tbatch_size=batch_size,\n",
    "\t\t\t\t\tclass_mode='categorical',\n",
    "\t\t\t\t\tshuffle=True)\n",
    "\n",
    "validation_generator = validation_datagen.flow_from_directory(\n",
    "\t\t\t\t\t\t\tvalidation_data_dir,\n",
    "\t\t\t\t\t\t\t#color_mode='grayscale',\n",
    "\t\t\t\t\t\t\ttarget_size=(IMG_HEIGHT, IMG_WIDTH),\n",
    "\t\t\t\t\t\t\tbatch_size=batch_size,\n",
    "\t\t\t\t\t\t\tclass_mode='categorical',\n",
    "\t\t\t\t\t\t\tshuffle=True)"
   ]
  },
  {
   "cell_type": "code",
   "execution_count": 7,
   "id": "fb86e496",
   "metadata": {
    "execution": {
     "iopub.execute_input": "2022-06-21T07:05:40.830094Z",
     "iopub.status.busy": "2022-06-21T07:05:40.829358Z",
     "iopub.status.idle": "2022-06-21T07:05:40.833842Z",
     "shell.execute_reply": "2022-06-21T07:05:40.833219Z"
    },
    "papermill": {
     "duration": 0.013432,
     "end_time": "2022-06-21T07:05:40.835699",
     "exception": false,
     "start_time": "2022-06-21T07:05:40.822267",
     "status": "completed"
    },
    "tags": []
   },
   "outputs": [],
   "source": [
    "class_labels=['Angry','Disgust', 'Fear', 'Happy','Neutral','Sad','Surprise']"
   ]
  },
  {
   "cell_type": "code",
   "execution_count": 8,
   "id": "c79ad917",
   "metadata": {
    "execution": {
     "iopub.execute_input": "2022-06-21T07:05:40.849076Z",
     "iopub.status.busy": "2022-06-21T07:05:40.848538Z",
     "iopub.status.idle": "2022-06-21T07:05:41.014824Z",
     "shell.execute_reply": "2022-06-21T07:05:41.013916Z"
    },
    "papermill": {
     "duration": 0.175466,
     "end_time": "2022-06-21T07:05:41.017121",
     "exception": false,
     "start_time": "2022-06-21T07:05:40.841655",
     "status": "completed"
    },
    "tags": []
   },
   "outputs": [],
   "source": [
    "img, label = train_generator.__next__()"
   ]
  },
  {
   "cell_type": "code",
   "execution_count": 9,
   "id": "f4d08f4a",
   "metadata": {
    "execution": {
     "iopub.execute_input": "2022-06-21T07:05:41.030827Z",
     "iopub.status.busy": "2022-06-21T07:05:41.030488Z",
     "iopub.status.idle": "2022-06-21T07:05:41.038154Z",
     "shell.execute_reply": "2022-06-21T07:05:41.037508Z"
    },
    "papermill": {
     "duration": 0.016301,
     "end_time": "2022-06-21T07:05:41.039799",
     "exception": false,
     "start_time": "2022-06-21T07:05:41.023498",
     "status": "completed"
    },
    "tags": []
   },
   "outputs": [
    {
     "data": {
      "text/plain": [
       "(32, 48, 48, 3)"
      ]
     },
     "execution_count": 9,
     "metadata": {},
     "output_type": "execute_result"
    }
   ],
   "source": [
    "img.shape"
   ]
  },
  {
   "cell_type": "code",
   "execution_count": 10,
   "id": "a7f2ce14",
   "metadata": {
    "execution": {
     "iopub.execute_input": "2022-06-21T07:05:41.053787Z",
     "iopub.status.busy": "2022-06-21T07:05:41.053292Z",
     "iopub.status.idle": "2022-06-21T07:05:41.234143Z",
     "shell.execute_reply": "2022-06-21T07:05:41.233488Z"
    },
    "papermill": {
     "duration": 0.189842,
     "end_time": "2022-06-21T07:05:41.235901",
     "exception": false,
     "start_time": "2022-06-21T07:05:41.046059",
     "status": "completed"
    },
    "tags": []
   },
   "outputs": [
    {
     "data": {
      "image/png": "[encoded data removed]",
      "text/plain": [
       "<Figure size 432x288 with 1 Axes>"
      ]
     },
     "metadata": {
      "needs_background": "light"
     },
     "output_type": "display_data"
    }
   ],
   "source": [
    "import random\n",
    "\n",
    "i=random.randint(0, (img.shape[0])-1)\n",
    "image = img[i]\n",
    "labl = class_labels[label[i].argmax()]\n",
    "plt.imshow(image, cmap='gray')\n",
    "plt.title(labl)\n",
    "plt.show()"
   ]
  },
  {
   "cell_type": "code",
   "execution_count": 11,
   "id": "6c00e484",
   "metadata": {
    "execution": {
     "iopub.execute_input": "2022-06-21T07:05:41.249904Z",
     "iopub.status.busy": "2022-06-21T07:05:41.249239Z",
     "iopub.status.idle": "2022-06-21T07:05:41.252714Z",
     "shell.execute_reply": "2022-06-21T07:05:41.252006Z"
    },
    "papermill": {
     "duration": 0.012382,
     "end_time": "2022-06-21T07:05:41.254588",
     "exception": false,
     "start_time": "2022-06-21T07:05:41.242206",
     "status": "completed"
    },
    "tags": []
   },
   "outputs": [],
   "source": [
    "#import cv2\n",
    "#color_image = cv2.cvtColor(image,cv2.COLOR_GRAY2RGB)\n",
    "#plt.imshow(color_image)\n",
    "#plt.show()"
   ]
  },
  {
   "cell_type": "code",
   "execution_count": 12,
   "id": "49330a81",
   "metadata": {
    "execution": {
     "iopub.execute_input": "2022-06-21T07:05:41.268659Z",
     "iopub.status.busy": "2022-06-21T07:05:41.268232Z",
     "iopub.status.idle": "2022-06-21T07:05:42.338128Z",
     "shell.execute_reply": "2022-06-21T07:05:42.337170Z"
    },
    "papermill": {
     "duration": 1.07955,
     "end_time": "2022-06-21T07:05:42.340662",
     "exception": false,
     "start_time": "2022-06-21T07:05:41.261112",
     "status": "completed"
    },
    "tags": []
   },
   "outputs": [
    {
     "name": "stderr",
     "output_type": "stream",
     "text": [
      "2022-06-21 07:05:41.324778: I tensorflow/core/common_runtime/process_util.cc:146] Creating new thread pool with default inter op setting: 2. Tune using inter_op_parallelism_threads for best performance.\n"
     ]
    },
    {
     "name": "stdout",
     "output_type": "stream",
     "text": [
      "Downloading data from https://storage.googleapis.com/tensorflow/keras-applications/vgg16/vgg16_weights_tf_dim_ordering_tf_kernels_notop.h5\n",
      "58892288/58889256 [==============================] - 0s 0us/step\n",
      "58900480/58889256 [==============================] - 0s 0us/step\n"
     ]
    }
   ],
   "source": [
    "conv_base = VGG16(include_top = False,input_shape=(48,48,3))"
   ]
  },
  {
   "cell_type": "code",
   "execution_count": 13,
   "id": "6746a349",
   "metadata": {
    "execution": {
     "iopub.execute_input": "2022-06-21T07:05:42.356727Z",
     "iopub.status.busy": "2022-06-21T07:05:42.356382Z",
     "iopub.status.idle": "2022-06-21T07:05:42.361478Z",
     "shell.execute_reply": "2022-06-21T07:05:42.360587Z"
    },
    "papermill": {
     "duration": 0.015402,
     "end_time": "2022-06-21T07:05:42.363336",
     "exception": false,
     "start_time": "2022-06-21T07:05:42.347934",
     "status": "completed"
    },
    "tags": []
   },
   "outputs": [],
   "source": [
    "#\n",
    "for layers in conv_base.layers:\n",
    "    layers.trainable = False"
   ]
  },
  {
   "cell_type": "code",
   "execution_count": 14,
   "id": "51de9d1c",
   "metadata": {
    "execution": {
     "iopub.execute_input": "2022-06-21T07:05:42.378562Z",
     "iopub.status.busy": "2022-06-21T07:05:42.378271Z",
     "iopub.status.idle": "2022-06-21T07:05:42.415316Z",
     "shell.execute_reply": "2022-06-21T07:05:42.414719Z"
    },
    "papermill": {
     "duration": 0.046768,
     "end_time": "2022-06-21T07:05:42.417115",
     "exception": false,
     "start_time": "2022-06-21T07:05:42.370347",
     "status": "completed"
    },
    "tags": []
   },
   "outputs": [],
   "source": [
    "from keras.models import Model\n",
    "from tensorflow.keras.layers import Input\n",
    "\n",
    "#top_model = conv_base.output\n",
    "#top_model = Flatten(name=\"flatten\")(top_model)\n",
    "#output_layer = Dense(7, activation='softmax')(top_model)\n",
    "\n",
    "x = Flatten()(conv_base.output)\n",
    "x = Dense(512, activation = \"relu\")(x)\n",
    "x = Dropout(0.5)(x)\n",
    "x = Dense(14, activation = \"relu\")(x)\n",
    "output_layer = Dense(7, activation = \"softmax\")(x)\n",
    "\n",
    "    \n",
    "# Group the convolutional base and new fully-connected layers into a Model object.\n",
    "model = Model(inputs=conv_base.input, outputs=output_layer)"
   ]
  },
  {
   "cell_type": "code",
   "execution_count": 15,
   "id": "21dd0c03",
   "metadata": {
    "execution": {
     "iopub.execute_input": "2022-06-21T07:05:42.432377Z",
     "iopub.status.busy": "2022-06-21T07:05:42.431915Z",
     "iopub.status.idle": "2022-06-21T07:05:42.450347Z",
     "shell.execute_reply": "2022-06-21T07:05:42.448699Z"
    },
    "papermill": {
     "duration": 0.028481,
     "end_time": "2022-06-21T07:05:42.452570",
     "exception": false,
     "start_time": "2022-06-21T07:05:42.424089",
     "status": "completed"
    },
    "tags": []
   },
   "outputs": [
    {
     "name": "stdout",
     "output_type": "stream",
     "text": [
      "Model: \"model\"\n",
      "_________________________________________________________________\n",
      "Layer (type)                 Output Shape              Param #   \n",
      "=================================================================\n",
      "input_1 (InputLayer)         [(None, 48, 48, 3)]       0         \n",
      "_________________________________________________________________\n",
      "block1_conv1 (Conv2D)        (None, 48, 48, 64)        1792      \n",
      "_________________________________________________________________\n",
      "block1_conv2 (Conv2D)        (None, 48, 48, 64)        36928     \n",
      "_________________________________________________________________\n",
      "block1_pool (MaxPooling2D)   (None, 24, 24, 64)        0         \n",
      "_________________________________________________________________\n",
      "block2_conv1 (Conv2D)        (None, 24, 24, 128)       73856     \n",
      "_________________________________________________________________\n",
      "block2_conv2 (Conv2D)        (None, 24, 24, 128)       147584    \n",
      "_________________________________________________________________\n",
      "block2_pool (MaxPooling2D)   (None, 12, 12, 128)       0         \n",
      "_________________________________________________________________\n",
      "block3_conv1 (Conv2D)        (None, 12, 12, 256)       295168    \n",
      "_________________________________________________________________\n",
      "block3_conv2 (Conv2D)        (None, 12, 12, 256)       590080    \n",
      "_________________________________________________________________\n",
      "block3_conv3 (Conv2D)        (None, 12, 12, 256)       590080    \n",
      "_________________________________________________________________\n",
      "block3_pool (MaxPooling2D)   (None, 6, 6, 256)         0         \n",
      "_________________________________________________________________\n",
      "block4_conv1 (Conv2D)        (None, 6, 6, 512)         1180160   \n",
      "_________________________________________________________________\n",
      "block4_conv2 (Conv2D)        (None, 6, 6, 512)         2359808   \n",
      "_________________________________________________________________\n",
      "block4_conv3 (Conv2D)        (None, 6, 6, 512)         2359808   \n",
      "_________________________________________________________________\n",
      "block4_pool (MaxPooling2D)   (None, 3, 3, 512)         0         \n",
      "_________________________________________________________________\n",
      "block5_conv1 (Conv2D)        (None, 3, 3, 512)         2359808   \n",
      "_________________________________________________________________\n",
      "block5_conv2 (Conv2D)        (None, 3, 3, 512)         2359808   \n",
      "_________________________________________________________________\n",
      "block5_conv3 (Conv2D)        (None, 3, 3, 512)         2359808   \n",
      "_________________________________________________________________\n",
      "block5_pool (MaxPooling2D)   (None, 1, 1, 512)         0         \n",
      "_________________________________________________________________\n",
      "flatten (Flatten)            (None, 512)               0         \n",
      "_________________________________________________________________\n",
      "dense (Dense)                (None, 512)               262656    \n",
      "_________________________________________________________________\n",
      "dropout (Dropout)            (None, 512)               0         \n",
      "_________________________________________________________________\n",
      "dense_1 (Dense)              (None, 14)                7182      \n",
      "_________________________________________________________________\n",
      "dense_2 (Dense)              (None, 7)                 105       \n",
      "=================================================================\n",
      "Total params: 14,984,631\n",
      "Trainable params: 269,943\n",
      "Non-trainable params: 14,714,688\n",
      "_________________________________________________________________\n",
      "None\n"
     ]
    }
   ],
   "source": [
    "model.compile(optimizer = 'adam', loss='categorical_crossentropy', metrics=['accuracy'])\n",
    "print(model.summary())"
   ]
  },
  {
   "cell_type": "code",
   "execution_count": 16,
   "id": "66d61909",
   "metadata": {
    "execution": {
     "iopub.execute_input": "2022-06-21T07:05:42.467951Z",
     "iopub.status.busy": "2022-06-21T07:05:42.467317Z",
     "iopub.status.idle": "2022-06-21T07:05:42.470817Z",
     "shell.execute_reply": "2022-06-21T07:05:42.470231Z"
    },
    "papermill": {
     "duration": 0.012892,
     "end_time": "2022-06-21T07:05:42.472503",
     "exception": false,
     "start_time": "2022-06-21T07:05:42.459611",
     "status": "completed"
    },
    "tags": []
   },
   "outputs": [],
   "source": [
    "train_path = \"../input/fer2013/train/\"\n",
    "test_path = \"../input/fer2013/test\""
   ]
  },
  {
   "cell_type": "code",
   "execution_count": 17,
   "id": "0bdedc36",
   "metadata": {
    "execution": {
     "iopub.execute_input": "2022-06-21T07:05:42.488634Z",
     "iopub.status.busy": "2022-06-21T07:05:42.487771Z",
     "iopub.status.idle": "2022-06-21T07:05:47.965456Z",
     "shell.execute_reply": "2022-06-21T07:05:47.964526Z"
    },
    "papermill": {
     "duration": 5.488084,
     "end_time": "2022-06-21T07:05:47.967758",
     "exception": false,
     "start_time": "2022-06-21T07:05:42.479674",
     "status": "completed"
    },
    "tags": []
   },
   "outputs": [],
   "source": [
    "num_train_imgs = 0\n",
    "for root, dirs, files in os.walk(train_path):\n",
    "    num_train_imgs += len(files)\n",
    "    \n",
    "num_test_imgs = 0\n",
    "for root, dirs, files in os.walk(test_path):\n",
    "    num_test_imgs += len(files)"
   ]
  },
  {
   "cell_type": "code",
   "execution_count": 18,
   "id": "494db12b",
   "metadata": {
    "execution": {
     "iopub.execute_input": "2022-06-21T07:05:47.984018Z",
     "iopub.status.busy": "2022-06-21T07:05:47.983353Z",
     "iopub.status.idle": "2022-06-21T07:05:47.987474Z",
     "shell.execute_reply": "2022-06-21T07:05:47.986890Z"
    },
    "papermill": {
     "duration": 0.013988,
     "end_time": "2022-06-21T07:05:47.989196",
     "exception": false,
     "start_time": "2022-06-21T07:05:47.975208",
     "status": "completed"
    },
    "tags": []
   },
   "outputs": [],
   "source": [
    "epochs=20"
   ]
  },
  {
   "cell_type": "code",
   "execution_count": 19,
   "id": "6b8619fa",
   "metadata": {
    "execution": {
     "iopub.execute_input": "2022-06-21T07:05:48.004827Z",
     "iopub.status.busy": "2022-06-21T07:05:48.004484Z",
     "iopub.status.idle": "2022-06-21T09:51:13.150290Z",
     "shell.execute_reply": "2022-06-21T09:51:13.149237Z"
    },
    "papermill": {
     "duration": 9925.156499,
     "end_time": "2022-06-21T09:51:13.152754",
     "exception": false,
     "start_time": "2022-06-21T07:05:47.996255",
     "status": "completed"
    },
    "tags": []
   },
   "outputs": [
    {
     "name": "stderr",
     "output_type": "stream",
     "text": [
      "2022-06-21 07:05:48.130700: I tensorflow/compiler/mlir/mlir_graph_optimization_pass.cc:185] None of the MLIR Optimization Passes are enabled (registered 2)\n"
     ]
    },
    {
     "name": "stdout",
     "output_type": "stream",
     "text": [
      "Epoch 1/20\n",
      "897/897 [==============================] - 447s 497ms/step - loss: 1.7566 - accuracy: 0.2836 - val_loss: 1.6646 - val_accuracy: 0.3299\n",
      "Epoch 2/20\n",
      "897/897 [==============================] - 444s 495ms/step - loss: 1.6939 - accuracy: 0.3192 - val_loss: 1.6383 - val_accuracy: 0.3545\n",
      "Epoch 3/20\n",
      "897/897 [==============================] - 450s 501ms/step - loss: 1.6708 - accuracy: 0.3385 - val_loss: 1.6053 - val_accuracy: 0.3736\n",
      "Epoch 4/20\n",
      "897/897 [==============================] - 458s 511ms/step - loss: 1.6603 - accuracy: 0.3417 - val_loss: 1.6271 - val_accuracy: 0.3643\n",
      "Epoch 5/20\n",
      "897/897 [==============================] - 460s 513ms/step - loss: 1.6494 - accuracy: 0.3473 - val_loss: 1.6007 - val_accuracy: 0.3770\n",
      "Epoch 6/20\n",
      "897/897 [==============================] - 464s 517ms/step - loss: 1.6435 - accuracy: 0.3524 - val_loss: 1.5885 - val_accuracy: 0.3750\n",
      "Epoch 7/20\n",
      "897/897 [==============================] - 463s 516ms/step - loss: 1.6358 - accuracy: 0.3539 - val_loss: 1.5783 - val_accuracy: 0.3903\n",
      "Epoch 8/20\n",
      "897/897 [==============================] - 460s 513ms/step - loss: 1.6319 - accuracy: 0.3566 - val_loss: 1.5746 - val_accuracy: 0.3878\n",
      "Epoch 9/20\n",
      "897/897 [==============================] - 461s 514ms/step - loss: 1.6236 - accuracy: 0.3602 - val_loss: 1.5716 - val_accuracy: 0.3883\n",
      "Epoch 10/20\n",
      "897/897 [==============================] - 463s 516ms/step - loss: 1.6249 - accuracy: 0.3593 - val_loss: 1.5600 - val_accuracy: 0.3903\n",
      "Epoch 11/20\n",
      "897/897 [==============================] - 460s 513ms/step - loss: 1.6196 - accuracy: 0.3623 - val_loss: 1.5586 - val_accuracy: 0.3990\n",
      "Epoch 12/20\n",
      "897/897 [==============================] - 463s 516ms/step - loss: 1.6148 - accuracy: 0.3650 - val_loss: 1.5573 - val_accuracy: 0.3917\n",
      "Epoch 13/20\n",
      "897/897 [==============================] - 461s 514ms/step - loss: 1.6142 - accuracy: 0.3646 - val_loss: 1.5555 - val_accuracy: 0.3951\n",
      "Epoch 14/20\n",
      "897/897 [==============================] - 462s 515ms/step - loss: 1.6116 - accuracy: 0.3688 - val_loss: 1.5588 - val_accuracy: 0.3913\n",
      "Epoch 15/20\n",
      "897/897 [==============================] - 460s 512ms/step - loss: 1.6097 - accuracy: 0.3668 - val_loss: 1.5523 - val_accuracy: 0.3949\n",
      "Epoch 16/20\n",
      "897/897 [==============================] - 466s 520ms/step - loss: 1.6044 - accuracy: 0.3689 - val_loss: 1.5637 - val_accuracy: 0.3880\n",
      "Epoch 17/20\n",
      "897/897 [==============================] - 471s 524ms/step - loss: 1.6064 - accuracy: 0.3685 - val_loss: 1.5377 - val_accuracy: 0.4037\n",
      "Epoch 18/20\n",
      "897/897 [==============================] - 472s 526ms/step - loss: 1.5999 - accuracy: 0.3701 - val_loss: 1.5419 - val_accuracy: 0.4029\n",
      "Epoch 19/20\n",
      "897/897 [==============================] - 471s 525ms/step - loss: 1.6021 - accuracy: 0.3696 - val_loss: 1.5485 - val_accuracy: 0.3993\n",
      "Epoch 20/20\n",
      "897/897 [==============================] - 472s 526ms/step - loss: 1.5990 - accuracy: 0.3754 - val_loss: 1.5470 - val_accuracy: 0.3961\n"
     ]
    }
   ],
   "source": [
    "history=model.fit(train_generator,\n",
    "                steps_per_epoch=num_train_imgs//batch_size,\n",
    "                epochs=epochs,\n",
    "                validation_data=validation_generator,\n",
    "                validation_steps=num_test_imgs//batch_size)"
   ]
  },
  {
   "cell_type": "code",
   "execution_count": 20,
   "id": "a6aa3dab",
   "metadata": {
    "execution": {
     "iopub.execute_input": "2022-06-21T09:51:15.786378Z",
     "iopub.status.busy": "2022-06-21T09:51:15.785738Z",
     "iopub.status.idle": "2022-06-21T09:51:15.928998Z",
     "shell.execute_reply": "2022-06-21T09:51:15.928111Z"
    },
    "papermill": {
     "duration": 1.506245,
     "end_time": "2022-06-21T09:51:15.931331",
     "exception": false,
     "start_time": "2022-06-21T09:51:14.425086",
     "status": "completed"
    },
    "tags": []
   },
   "outputs": [],
   "source": [
    "model.save('emotion_detection_model.h5')"
   ]
  },
  {
   "cell_type": "code",
   "execution_count": 21,
   "id": "40c8495d",
   "metadata": {
    "execution": {
     "iopub.execute_input": "2022-06-21T09:51:18.571390Z",
     "iopub.status.busy": "2022-06-21T09:51:18.570735Z",
     "iopub.status.idle": "2022-06-21T09:51:18.870473Z",
     "shell.execute_reply": "2022-06-21T09:51:18.869394Z"
    },
    "papermill": {
     "duration": 1.670871,
     "end_time": "2022-06-21T09:51:18.872688",
     "exception": false,
     "start_time": "2022-06-21T09:51:17.201817",
     "status": "completed"
    },
    "tags": []
   },
   "outputs": [
    {
     "data": {
      "image/png": "[encoded data removed]",
      "text/plain": [
       "<Figure size 1080x1080 with 2 Axes>"
      ]
     },
     "metadata": {
      "needs_background": "light"
     },
     "output_type": "display_data"
    }
   ],
   "source": [
    "acc = history.history['accuracy']\n",
    "val_acc = history.history['val_accuracy']\n",
    "loss = history.history['loss']\n",
    "val_loss = history.history['val_loss']\n",
    "\n",
    "epochs_range = range(epochs)\n",
    "\n",
    "plt.figure(figsize=(15, 15))\n",
    "plt.subplot(2, 2, 1)\n",
    "plt.plot(epochs_range, acc, label='Training Accuracy')\n",
    "plt.plot(epochs_range, val_acc, label='Validation Accuracy')\n",
    "plt.legend(loc='lower right')\n",
    "plt.title('Training and Validation Accuracy')\n",
    "\n",
    "plt.subplot(2, 2, 2)\n",
    "plt.plot(epochs_range, loss, label='Training Loss')\n",
    "plt.plot(epochs_range, val_loss, label='Validation Loss')\n",
    "plt.legend(loc='upper right')\n",
    "plt.title('Training and Validation Loss')\n",
    "plt.show()\n"
   ]
  }
 ],
 "metadata": {
  "kernelspec": {
   "display_name": "Python 3",
   "language": "python",
   "name": "python3"
  },
  "language_info": {
   "codemirror_mode": {
    "name": "ipython",
    "version": 3
   },
   "file_extension": ".py",
   "mimetype": "text/x-python",
   "name": "python",
   "nbconvert_exporter": "python",
   "pygments_lexer": "ipython3",
   "version": "3.7.12"
  },
  "papermill": {
   "default_parameters": {},
   "duration": 9970.354651,
   "end_time": "2022-06-21T09:51:23.026883",
   "environment_variables": {},
   "exception": null,
   "input_path": "__notebook__.ipynb",
   "output_path": "__notebook__.ipynb",
   "parameters": {},
   "start_time": "2022-06-21T07:05:12.672232",
   "version": "2.3.4"
  }
 },
 "nbformat": 4,
 "nbformat_minor": 5
}

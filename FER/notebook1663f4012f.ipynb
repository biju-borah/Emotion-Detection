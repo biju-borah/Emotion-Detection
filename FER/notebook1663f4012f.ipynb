{
 "cells": [
  {
   "cell_type": "code",
   "execution_count": 1,
   "id": "0cfe315f",
   "metadata": {
    "execution": {
     "iopub.execute_input": "2022-06-21T07:41:46.491961Z",
     "iopub.status.busy": "2022-06-21T07:41:46.491026Z",
     "iopub.status.idle": "2022-06-21T07:41:52.860976Z",
     "shell.execute_reply": "2022-06-21T07:41:52.859613Z"
    },
    "papermill": {
     "duration": 6.384852,
     "end_time": "2022-06-21T07:41:52.864124",
     "exception": false,
     "start_time": "2022-06-21T07:41:46.479272",
     "status": "completed"
    },
    "tags": []
   },
   "outputs": [],
   "source": [
    "from keras.applications.vgg19 import VGG19\n",
    "from keras.preprocessing.image import ImageDataGenerator\n",
    "from keras.models import Sequential\n",
    "from keras.layers import Dense,Dropout,Flatten,Input\n",
    "from keras.layers import Conv2D,MaxPooling2D\n",
    "import os\n",
    "from matplotlib import pyplot as plt\n",
    "import numpy as np"
   ]
  },
  {
   "cell_type": "code",
   "execution_count": 2,
   "id": "711a4380",
   "metadata": {
    "execution": {
     "iopub.execute_input": "2022-06-21T07:41:52.880103Z",
     "iopub.status.busy": "2022-06-21T07:41:52.879299Z",
     "iopub.status.idle": "2022-06-21T07:41:52.884388Z",
     "shell.execute_reply": "2022-06-21T07:41:52.883336Z"
    },
    "papermill": {
     "duration": 0.015503,
     "end_time": "2022-06-21T07:41:52.886612",
     "exception": false,
     "start_time": "2022-06-21T07:41:52.871109",
     "status": "completed"
    },
    "tags": []
   },
   "outputs": [],
   "source": [
    "IMG_HEIGHT= 48\n",
    "IMG_WIDTH = 48\n",
    "batch_size= 32"
   ]
  },
  {
   "cell_type": "code",
   "execution_count": 3,
   "id": "57a71a12",
   "metadata": {
    "execution": {
     "iopub.execute_input": "2022-06-21T07:41:52.900916Z",
     "iopub.status.busy": "2022-06-21T07:41:52.900452Z",
     "iopub.status.idle": "2022-06-21T07:41:52.904790Z",
     "shell.execute_reply": "2022-06-21T07:41:52.904015Z"
    },
    "papermill": {
     "duration": 0.013675,
     "end_time": "2022-06-21T07:41:52.906605",
     "exception": false,
     "start_time": "2022-06-21T07:41:52.892930",
     "status": "completed"
    },
    "tags": []
   },
   "outputs": [],
   "source": [
    "train_data_dir='../input/fer2013/train/'\n",
    "validation_data_dir='../input/fer2013/test/'"
   ]
  },
  {
   "cell_type": "code",
   "execution_count": 4,
   "id": "dbcdc579",
   "metadata": {
    "execution": {
     "iopub.execute_input": "2022-06-21T07:41:52.921392Z",
     "iopub.status.busy": "2022-06-21T07:41:52.920653Z",
     "iopub.status.idle": "2022-06-21T07:41:52.925589Z",
     "shell.execute_reply": "2022-06-21T07:41:52.924889Z"
    },
    "papermill": {
     "duration": 0.014778,
     "end_time": "2022-06-21T07:41:52.927540",
     "exception": false,
     "start_time": "2022-06-21T07:41:52.912762",
     "status": "completed"
    },
    "tags": []
   },
   "outputs": [],
   "source": [
    "train_datagen = ImageDataGenerator(\n",
    "\t\t\t\t\trescale=1./255,\n",
    "\t\t\t\t\trotation_range=30,\n",
    "\t\t\t\t\tshear_range=0.3,\n",
    "\t\t\t\t\tzoom_range=0.3,\n",
    "\t\t\t\t\thorizontal_flip=True,\n",
    "\t\t\t\t\tfill_mode='nearest')"
   ]
  },
  {
   "cell_type": "code",
   "execution_count": 5,
   "id": "af742cc8",
   "metadata": {
    "execution": {
     "iopub.execute_input": "2022-06-21T07:41:52.942398Z",
     "iopub.status.busy": "2022-06-21T07:41:52.941616Z",
     "iopub.status.idle": "2022-06-21T07:41:52.946111Z",
     "shell.execute_reply": "2022-06-21T07:41:52.945410Z"
    },
    "papermill": {
     "duration": 0.014222,
     "end_time": "2022-06-21T07:41:52.948009",
     "exception": false,
     "start_time": "2022-06-21T07:41:52.933787",
     "status": "completed"
    },
    "tags": []
   },
   "outputs": [],
   "source": [
    "validation_datagen = ImageDataGenerator(rescale=1./255)"
   ]
  },
  {
   "cell_type": "code",
   "execution_count": 6,
   "id": "bc39d42c",
   "metadata": {
    "execution": {
     "iopub.execute_input": "2022-06-21T07:41:52.962473Z",
     "iopub.status.busy": "2022-06-21T07:41:52.961789Z",
     "iopub.status.idle": "2022-06-21T07:42:07.077187Z",
     "shell.execute_reply": "2022-06-21T07:42:07.076023Z"
    },
    "papermill": {
     "duration": 14.125722,
     "end_time": "2022-06-21T07:42:07.079865",
     "exception": false,
     "start_time": "2022-06-21T07:41:52.954143",
     "status": "completed"
    },
    "tags": []
   },
   "outputs": [
    {
     "name": "stdout",
     "output_type": "stream",
     "text": [
      "Found 28709 images belonging to 7 classes.\n",
      "Found 7178 images belonging to 7 classes.\n"
     ]
    }
   ],
   "source": [
    "train_generator = train_datagen.flow_from_directory(\n",
    "\t\t\t\t\ttrain_data_dir,\n",
    "\t\t\t\t\t#color_mode='grayscale',\n",
    "\t\t\t\t\ttarget_size=(IMG_HEIGHT, IMG_WIDTH),\n",
    "\t\t\t\t\tbatch_size=batch_size,\n",
    "\t\t\t\t\tclass_mode='categorical',\n",
    "\t\t\t\t\tshuffle=True)\n",
    "\n",
    "validation_generator = validation_datagen.flow_from_directory(\n",
    "\t\t\t\t\t\t\tvalidation_data_dir,\n",
    "\t\t\t\t\t\t\t#color_mode='grayscale',\n",
    "\t\t\t\t\t\t\ttarget_size=(IMG_HEIGHT, IMG_WIDTH),\n",
    "\t\t\t\t\t\t\tbatch_size=batch_size,\n",
    "\t\t\t\t\t\t\tclass_mode='categorical',\n",
    "\t\t\t\t\t\t\tshuffle=True)"
   ]
  },
  {
   "cell_type": "code",
   "execution_count": 7,
   "id": "bb47b145",
   "metadata": {
    "execution": {
     "iopub.execute_input": "2022-06-21T07:42:07.098197Z",
     "iopub.status.busy": "2022-06-21T07:42:07.097400Z",
     "iopub.status.idle": "2022-06-21T07:42:07.103560Z",
     "shell.execute_reply": "2022-06-21T07:42:07.102288Z"
    },
    "papermill": {
     "duration": 0.017961,
     "end_time": "2022-06-21T07:42:07.105848",
     "exception": false,
     "start_time": "2022-06-21T07:42:07.087887",
     "status": "completed"
    },
    "tags": []
   },
   "outputs": [],
   "source": [
    "class_labels=['Angry','Disgust', 'Fear', 'Happy','Neutral','Sad','Surprise']"
   ]
  },
  {
   "cell_type": "code",
   "execution_count": 8,
   "id": "ce6f7bd9",
   "metadata": {
    "execution": {
     "iopub.execute_input": "2022-06-21T07:42:07.122171Z",
     "iopub.status.busy": "2022-06-21T07:42:07.121204Z",
     "iopub.status.idle": "2022-06-21T07:42:07.293911Z",
     "shell.execute_reply": "2022-06-21T07:42:07.292703Z"
    },
    "papermill": {
     "duration": 0.183653,
     "end_time": "2022-06-21T07:42:07.296212",
     "exception": false,
     "start_time": "2022-06-21T07:42:07.112559",
     "status": "completed"
    },
    "tags": []
   },
   "outputs": [],
   "source": [
    "img, label = train_generator.__next__()"
   ]
  },
  {
   "cell_type": "code",
   "execution_count": 9,
   "id": "9ab17c4c",
   "metadata": {
    "execution": {
     "iopub.execute_input": "2022-06-21T07:42:07.311115Z",
     "iopub.status.busy": "2022-06-21T07:42:07.310711Z",
     "iopub.status.idle": "2022-06-21T07:42:07.319345Z",
     "shell.execute_reply": "2022-06-21T07:42:07.318396Z"
    },
    "papermill": {
     "duration": 0.018861,
     "end_time": "2022-06-21T07:42:07.321831",
     "exception": false,
     "start_time": "2022-06-21T07:42:07.302970",
     "status": "completed"
    },
    "tags": []
   },
   "outputs": [
    {
     "data": {
      "text/plain": [
       "(32, 48, 48, 3)"
      ]
     },
     "execution_count": 9,
     "metadata": {},
     "output_type": "execute_result"
    }
   ],
   "source": [
    "img.shape"
   ]
  },
  {
   "cell_type": "code",
   "execution_count": 10,
   "id": "167dd32f",
   "metadata": {
    "execution": {
     "iopub.execute_input": "2022-06-21T07:42:07.337609Z",
     "iopub.status.busy": "2022-06-21T07:42:07.336962Z",
     "iopub.status.idle": "2022-06-21T07:42:07.537610Z",
     "shell.execute_reply": "2022-06-21T07:42:07.536028Z"
    },
    "papermill": {
     "duration": 0.212171,
     "end_time": "2022-06-21T07:42:07.540677",
     "exception": false,
     "start_time": "2022-06-21T07:42:07.328506",
     "status": "completed"
    },
    "tags": []
   },
   "outputs": [
    {
     "data": {
      "image/png": "[encoded data removed]",
      "text/plain": [
       "<Figure size 432x288 with 1 Axes>"
      ]
     },
     "metadata": {
      "needs_background": "light"
     },
     "output_type": "display_data"
    }
   ],
   "source": [
    "import random\n",
    "\n",
    "i=random.randint(0, (img.shape[0])-1)\n",
    "image = img[i]\n",
    "labl = class_labels[label[i].argmax()]\n",
    "plt.imshow(image, cmap='gray')\n",
    "plt.title(labl)\n",
    "plt.show()"
   ]
  },
  {
   "cell_type": "code",
   "execution_count": 11,
   "id": "42cf2223",
   "metadata": {
    "execution": {
     "iopub.execute_input": "2022-06-21T07:42:07.556638Z",
     "iopub.status.busy": "2022-06-21T07:42:07.556154Z",
     "iopub.status.idle": "2022-06-21T07:42:07.560948Z",
     "shell.execute_reply": "2022-06-21T07:42:07.559790Z"
    },
    "papermill": {
     "duration": 0.015962,
     "end_time": "2022-06-21T07:42:07.563514",
     "exception": false,
     "start_time": "2022-06-21T07:42:07.547552",
     "status": "completed"
    },
    "tags": []
   },
   "outputs": [],
   "source": [
    "#import cv2\n",
    "#color_image = cv2.cvtColor(image,cv2.COLOR_GRAY2RGB)\n",
    "#plt.imshow(color_image)\n",
    "#plt.show()"
   ]
  },
  {
   "cell_type": "code",
   "execution_count": 12,
   "id": "3b0ebfbc",
   "metadata": {
    "execution": {
     "iopub.execute_input": "2022-06-21T07:42:07.579787Z",
     "iopub.status.busy": "2022-06-21T07:42:07.579351Z",
     "iopub.status.idle": "2022-06-21T07:42:09.006895Z",
     "shell.execute_reply": "2022-06-21T07:42:09.005636Z"
    },
    "papermill": {
     "duration": 1.438682,
     "end_time": "2022-06-21T07:42:09.009421",
     "exception": false,
     "start_time": "2022-06-21T07:42:07.570739",
     "status": "completed"
    },
    "tags": []
   },
   "outputs": [
    {
     "name": "stderr",
     "output_type": "stream",
     "text": [
      "2022-06-21 07:42:07.642853: I tensorflow/core/common_runtime/process_util.cc:146] Creating new thread pool with default inter op setting: 2. Tune using inter_op_parallelism_threads for best performance.\n"
     ]
    },
    {
     "name": "stdout",
     "output_type": "stream",
     "text": [
      "Downloading data from https://storage.googleapis.com/tensorflow/keras-applications/vgg19/vgg19_weights_tf_dim_ordering_tf_kernels_notop.h5\n",
      "80142336/80134624 [==============================] - 1s 0us/step\n",
      "80150528/80134624 [==============================] - 1s 0us/step\n"
     ]
    }
   ],
   "source": [
    "conv_base = VGG19(include_top = False,input_shape=(48,48,3),weights = 'imagenet')"
   ]
  },
  {
   "cell_type": "code",
   "execution_count": 13,
   "id": "892afbf2",
   "metadata": {
    "execution": {
     "iopub.execute_input": "2022-06-21T07:42:09.026959Z",
     "iopub.status.busy": "2022-06-21T07:42:09.026602Z",
     "iopub.status.idle": "2022-06-21T07:42:09.032553Z",
     "shell.execute_reply": "2022-06-21T07:42:09.031512Z"
    },
    "papermill": {
     "duration": 0.016967,
     "end_time": "2022-06-21T07:42:09.034587",
     "exception": false,
     "start_time": "2022-06-21T07:42:09.017620",
     "status": "completed"
    },
    "tags": []
   },
   "outputs": [],
   "source": [
    "#\n",
    "for layers in conv_base.layers:\n",
    "    layers.trainable = False"
   ]
  },
  {
   "cell_type": "code",
   "execution_count": 14,
   "id": "82cae911",
   "metadata": {
    "execution": {
     "iopub.execute_input": "2022-06-21T07:42:09.051947Z",
     "iopub.status.busy": "2022-06-21T07:42:09.051560Z",
     "iopub.status.idle": "2022-06-21T07:42:09.094588Z",
     "shell.execute_reply": "2022-06-21T07:42:09.093543Z"
    },
    "papermill": {
     "duration": 0.054755,
     "end_time": "2022-06-21T07:42:09.096996",
     "exception": false,
     "start_time": "2022-06-21T07:42:09.042241",
     "status": "completed"
    },
    "tags": []
   },
   "outputs": [],
   "source": [
    "from keras.models import Model\n",
    "from tensorflow.keras.layers import Input\n",
    "\n",
    "#top_model = conv_base.output\n",
    "#top_model = Flatten(name=\"flatten\")(top_model)\n",
    "#output_layer = Dense(7, activation='softmax')(top_model)\n",
    "\n",
    "x = Flatten()(conv_base.output)\n",
    "x = Dense(512, activation = \"relu\")(x)\n",
    "x = Dropout(0.5)(x)\n",
    "x = Dense(14, activation = \"relu\")(x)\n",
    "output_layer = Dense(7, activation = \"softmax\")(x)\n",
    "\n",
    "    \n",
    "# Group the convolutional base and new fully-connected layers into a Model object.\n",
    "model = Model(inputs=conv_base.input, outputs=output_layer)"
   ]
  },
  {
   "cell_type": "code",
   "execution_count": 15,
   "id": "c2e7ce29",
   "metadata": {
    "execution": {
     "iopub.execute_input": "2022-06-21T07:42:09.114024Z",
     "iopub.status.busy": "2022-06-21T07:42:09.113650Z",
     "iopub.status.idle": "2022-06-21T07:42:09.135811Z",
     "shell.execute_reply": "2022-06-21T07:42:09.135038Z"
    },
    "papermill": {
     "duration": 0.035367,
     "end_time": "2022-06-21T07:42:09.140164",
     "exception": false,
     "start_time": "2022-06-21T07:42:09.104797",
     "status": "completed"
    },
    "tags": []
   },
   "outputs": [
    {
     "name": "stdout",
     "output_type": "stream",
     "text": [
      "Model: \"model\"\n",
      "_________________________________________________________________\n",
      "Layer (type)                 Output Shape              Param #   \n",
      "=================================================================\n",
      "input_1 (InputLayer)         [(None, 48, 48, 3)]       0         \n",
      "_________________________________________________________________\n",
      "block1_conv1 (Conv2D)        (None, 48, 48, 64)        1792      \n",
      "_________________________________________________________________\n",
      "block1_conv2 (Conv2D)        (None, 48, 48, 64)        36928     \n",
      "_________________________________________________________________\n",
      "block1_pool (MaxPooling2D)   (None, 24, 24, 64)        0         \n",
      "_________________________________________________________________\n",
      "block2_conv1 (Conv2D)        (None, 24, 24, 128)       73856     \n",
      "_________________________________________________________________\n",
      "block2_conv2 (Conv2D)        (None, 24, 24, 128)       147584    \n",
      "_________________________________________________________________\n",
      "block2_pool (MaxPooling2D)   (None, 12, 12, 128)       0         \n",
      "_________________________________________________________________\n",
      "block3_conv1 (Conv2D)        (None, 12, 12, 256)       295168    \n",
      "_________________________________________________________________\n",
      "block3_conv2 (Conv2D)        (None, 12, 12, 256)       590080    \n",
      "_________________________________________________________________\n",
      "block3_conv3 (Conv2D)        (None, 12, 12, 256)       590080    \n",
      "_________________________________________________________________\n",
      "block3_conv4 (Conv2D)        (None, 12, 12, 256)       590080    \n",
      "_________________________________________________________________\n",
      "block3_pool (MaxPooling2D)   (None, 6, 6, 256)         0         \n",
      "_________________________________________________________________\n",
      "block4_conv1 (Conv2D)        (None, 6, 6, 512)         1180160   \n",
      "_________________________________________________________________\n",
      "block4_conv2 (Conv2D)        (None, 6, 6, 512)         2359808   \n",
      "_________________________________________________________________\n",
      "block4_conv3 (Conv2D)        (None, 6, 6, 512)         2359808   \n",
      "_________________________________________________________________\n",
      "block4_conv4 (Conv2D)        (None, 6, 6, 512)         2359808   \n",
      "_________________________________________________________________\n",
      "block4_pool (MaxPooling2D)   (None, 3, 3, 512)         0         \n",
      "_________________________________________________________________\n",
      "block5_conv1 (Conv2D)        (None, 3, 3, 512)         2359808   \n",
      "_________________________________________________________________\n",
      "block5_conv2 (Conv2D)        (None, 3, 3, 512)         2359808   \n",
      "_________________________________________________________________\n",
      "block5_conv3 (Conv2D)        (None, 3, 3, 512)         2359808   \n",
      "_________________________________________________________________\n",
      "block5_conv4 (Conv2D)        (None, 3, 3, 512)         2359808   \n",
      "_________________________________________________________________\n",
      "block5_pool (MaxPooling2D)   (None, 1, 1, 512)         0         \n",
      "_________________________________________________________________\n",
      "flatten (Flatten)            (None, 512)               0         \n",
      "_________________________________________________________________\n",
      "dense (Dense)                (None, 512)               262656    \n",
      "_________________________________________________________________\n",
      "dropout (Dropout)            (None, 512)               0         \n",
      "_________________________________________________________________\n",
      "dense_1 (Dense)              (None, 14)                7182      \n",
      "_________________________________________________________________\n",
      "dense_2 (Dense)              (None, 7)                 105       \n",
      "=================================================================\n",
      "Total params: 20,294,327\n",
      "Trainable params: 269,943\n",
      "Non-trainable params: 20,024,384\n",
      "_________________________________________________________________\n",
      "None\n"
     ]
    }
   ],
   "source": [
    "model.compile(optimizer = 'adam', loss='categorical_crossentropy', metrics=['accuracy'])\n",
    "print(model.summary())"
   ]
  },
  {
   "cell_type": "code",
   "execution_count": 16,
   "id": "2c22e6e9",
   "metadata": {
    "execution": {
     "iopub.execute_input": "2022-06-21T07:42:09.159775Z",
     "iopub.status.busy": "2022-06-21T07:42:09.159289Z",
     "iopub.status.idle": "2022-06-21T07:42:09.165122Z",
     "shell.execute_reply": "2022-06-21T07:42:09.164059Z"
    },
    "papermill": {
     "duration": 0.017812,
     "end_time": "2022-06-21T07:42:09.167458",
     "exception": false,
     "start_time": "2022-06-21T07:42:09.149646",
     "status": "completed"
    },
    "tags": []
   },
   "outputs": [],
   "source": [
    "train_path = \"../input/fer2013/train/\"\n",
    "test_path = \"../input/fer2013/test\""
   ]
  },
  {
   "cell_type": "code",
   "execution_count": 17,
   "id": "b6fa5f0b",
   "metadata": {
    "execution": {
     "iopub.execute_input": "2022-06-21T07:42:09.186197Z",
     "iopub.status.busy": "2022-06-21T07:42:09.185801Z",
     "iopub.status.idle": "2022-06-21T07:42:15.515004Z",
     "shell.execute_reply": "2022-06-21T07:42:15.513999Z"
    },
    "papermill": {
     "duration": 6.341795,
     "end_time": "2022-06-21T07:42:15.517899",
     "exception": false,
     "start_time": "2022-06-21T07:42:09.176104",
     "status": "completed"
    },
    "tags": []
   },
   "outputs": [],
   "source": [
    "num_train_imgs = 0\n",
    "for root, dirs, files in os.walk(train_path):\n",
    "    num_train_imgs += len(files)\n",
    "    \n",
    "num_test_imgs = 0\n",
    "for root, dirs, files in os.walk(test_path):\n",
    "    num_test_imgs += len(files)"
   ]
  },
  {
   "cell_type": "code",
   "execution_count": 18,
   "id": "7f3347ac",
   "metadata": {
    "execution": {
     "iopub.execute_input": "2022-06-21T07:42:15.536929Z",
     "iopub.status.busy": "2022-06-21T07:42:15.536514Z",
     "iopub.status.idle": "2022-06-21T07:42:15.540801Z",
     "shell.execute_reply": "2022-06-21T07:42:15.539594Z"
    },
    "papermill": {
     "duration": 0.016537,
     "end_time": "2022-06-21T07:42:15.543018",
     "exception": false,
     "start_time": "2022-06-21T07:42:15.526481",
     "status": "completed"
    },
    "tags": []
   },
   "outputs": [],
   "source": [
    "epochs=20"
   ]
  },
  {
   "cell_type": "code",
   "execution_count": 19,
   "id": "55444c27",
   "metadata": {
    "execution": {
     "iopub.execute_input": "2022-06-21T07:42:15.561589Z",
     "iopub.status.busy": "2022-06-21T07:42:15.561178Z",
     "iopub.status.idle": "2022-06-21T11:22:16.176131Z",
     "shell.execute_reply": "2022-06-21T11:22:16.174687Z"
    },
    "papermill": {
     "duration": 13200.627533,
     "end_time": "2022-06-21T11:22:16.179026",
     "exception": false,
     "start_time": "2022-06-21T07:42:15.551493",
     "status": "completed"
    },
    "tags": []
   },
   "outputs": [
    {
     "name": "stderr",
     "output_type": "stream",
     "text": [
      "2022-06-21 07:42:15.712792: I tensorflow/compiler/mlir/mlir_graph_optimization_pass.cc:185] None of the MLIR Optimization Passes are enabled (registered 2)\n"
     ]
    },
    {
     "name": "stdout",
     "output_type": "stream",
     "text": [
      "Epoch 1/20\n",
      "897/897 [==============================] - 638s 710ms/step - loss: 1.7650 - accuracy: 0.2790 - val_loss: 1.6787 - val_accuracy: 0.3154\n",
      "Epoch 2/20\n",
      "897/897 [==============================] - 626s 698ms/step - loss: 1.7101 - accuracy: 0.3080 - val_loss: 1.6645 - val_accuracy: 0.3371\n",
      "Epoch 3/20\n",
      "897/897 [==============================] - 627s 699ms/step - loss: 1.6951 - accuracy: 0.3156 - val_loss: 1.6655 - val_accuracy: 0.3322\n",
      "Epoch 4/20\n",
      "897/897 [==============================] - 628s 700ms/step - loss: 1.6859 - accuracy: 0.3240 - val_loss: 1.6477 - val_accuracy: 0.3340\n",
      "Epoch 5/20\n",
      "897/897 [==============================] - 627s 699ms/step - loss: 1.6759 - accuracy: 0.3305 - val_loss: 1.6324 - val_accuracy: 0.3492\n",
      "Epoch 6/20\n",
      "897/897 [==============================] - 631s 703ms/step - loss: 1.6715 - accuracy: 0.3321 - val_loss: 1.6223 - val_accuracy: 0.3563\n",
      "Epoch 7/20\n",
      "897/897 [==============================] - 635s 708ms/step - loss: 1.6662 - accuracy: 0.3362 - val_loss: 1.6226 - val_accuracy: 0.3605\n",
      "Epoch 8/20\n",
      "897/897 [==============================] - 633s 706ms/step - loss: 1.6609 - accuracy: 0.3380 - val_loss: 1.6060 - val_accuracy: 0.3546\n",
      "Epoch 9/20\n",
      "897/897 [==============================] - 635s 708ms/step - loss: 1.6599 - accuracy: 0.3401 - val_loss: 1.6210 - val_accuracy: 0.3467\n",
      "Epoch 10/20\n",
      "897/897 [==============================] - 633s 706ms/step - loss: 1.6564 - accuracy: 0.3368 - val_loss: 1.6185 - val_accuracy: 0.3499\n",
      "Epoch 11/20\n",
      "897/897 [==============================] - 636s 709ms/step - loss: 1.6530 - accuracy: 0.3427 - val_loss: 1.6048 - val_accuracy: 0.3573\n",
      "Epoch 12/20\n",
      "897/897 [==============================] - 634s 706ms/step - loss: 1.6513 - accuracy: 0.3400 - val_loss: 1.5997 - val_accuracy: 0.3566\n",
      "Epoch 13/20\n",
      "897/897 [==============================] - 636s 709ms/step - loss: 1.6471 - accuracy: 0.3457 - val_loss: 1.5876 - val_accuracy: 0.3676\n",
      "Epoch 14/20\n",
      "897/897 [==============================] - 634s 707ms/step - loss: 1.6450 - accuracy: 0.3441 - val_loss: 1.5907 - val_accuracy: 0.3691\n",
      "Epoch 15/20\n",
      "897/897 [==============================] - 635s 707ms/step - loss: 1.6475 - accuracy: 0.3473 - val_loss: 1.6128 - val_accuracy: 0.3548\n",
      "Epoch 16/20\n",
      "897/897 [==============================] - 636s 709ms/step - loss: 1.6416 - accuracy: 0.3470 - val_loss: 1.5904 - val_accuracy: 0.3643\n",
      "Epoch 17/20\n",
      "897/897 [==============================] - 637s 710ms/step - loss: 1.6393 - accuracy: 0.3477 - val_loss: 1.5911 - val_accuracy: 0.3693\n",
      "Epoch 18/20\n",
      "897/897 [==============================] - 638s 711ms/step - loss: 1.6379 - accuracy: 0.3517 - val_loss: 1.6110 - val_accuracy: 0.3545\n",
      "Epoch 19/20\n",
      "897/897 [==============================] - 637s 710ms/step - loss: 1.6360 - accuracy: 0.3506 - val_loss: 1.5799 - val_accuracy: 0.3751\n",
      "Epoch 20/20\n",
      "897/897 [==============================] - 636s 709ms/step - loss: 1.6335 - accuracy: 0.3542 - val_loss: 1.5975 - val_accuracy: 0.3704\n"
     ]
    }
   ],
   "source": [
    "history=model.fit(train_generator,\n",
    "                steps_per_epoch=num_train_imgs//batch_size,\n",
    "                epochs=epochs,\n",
    "                validation_data=validation_generator,\n",
    "                validation_steps=num_test_imgs//batch_size)"
   ]
  },
  {
   "cell_type": "code",
   "execution_count": 20,
   "id": "eb5627bd",
   "metadata": {
    "execution": {
     "iopub.execute_input": "2022-06-21T11:22:18.929070Z",
     "iopub.status.busy": "2022-06-21T11:22:18.927540Z",
     "iopub.status.idle": "2022-06-21T11:22:19.172516Z",
     "shell.execute_reply": "2022-06-21T11:22:19.171415Z"
    },
    "papermill": {
     "duration": 1.703187,
     "end_time": "2022-06-21T11:22:19.175351",
     "exception": false,
     "start_time": "2022-06-21T11:22:17.472164",
     "status": "completed"
    },
    "tags": []
   },
   "outputs": [],
   "source": [
    "model.save('emotion_detection_model.h5')"
   ]
  },
  {
   "cell_type": "code",
   "execution_count": 21,
   "id": "fa771881",
   "metadata": {
    "execution": {
     "iopub.execute_input": "2022-06-21T11:22:21.802939Z",
     "iopub.status.busy": "2022-06-21T11:22:21.801732Z",
     "iopub.status.idle": "2022-06-21T11:22:22.176828Z",
     "shell.execute_reply": "2022-06-21T11:22:22.175809Z"
    },
    "papermill": {
     "duration": 1.645427,
     "end_time": "2022-06-21T11:22:22.179977",
     "exception": false,
     "start_time": "2022-06-21T11:22:20.534550",
     "status": "completed"
    },
    "tags": []
   },
   "outputs": [
    {
     "data": {
      "image/png": "[encoded data removed]",
      "text/plain": [
       "<Figure size 1080x1080 with 2 Axes>"
      ]
     },
     "metadata": {
      "needs_background": "light"
     },
     "output_type": "display_data"
    }
   ],
   "source": [
    "acc = history.history['accuracy']\n",
    "val_acc = history.history['val_accuracy']\n",
    "loss = history.history['loss']\n",
    "val_loss = history.history['val_loss']\n",
    "\n",
    "epochs_range = range(epochs)\n",
    "\n",
    "plt.figure(figsize=(15, 15))\n",
    "plt.subplot(2, 2, 1)\n",
    "plt.plot(epochs_range, acc, label='Training Accuracy')\n",
    "plt.plot(epochs_range, val_acc, label='Validation Accuracy')\n",
    "plt.legend(loc='lower right')\n",
    "plt.title('Training and Validation Accuracy')\n",
    "\n",
    "plt.subplot(2, 2, 2)\n",
    "plt.plot(epochs_range, loss, label='Training Loss')\n",
    "plt.plot(epochs_range, val_loss, label='Validation Loss')\n",
    "plt.legend(loc='upper right')\n",
    "plt.title('Training and Validation Loss')\n",
    "plt.show()\n"
   ]
  }
 ],
 "metadata": {
  "kernelspec": {
   "display_name": "Python 3",
   "language": "python",
   "name": "python3"
  },
  "language_info": {
   "codemirror_mode": {
    "name": "ipython",
    "version": 3
   },
   "file_extension": ".py",
   "mimetype": "text/x-python",
   "name": "python",
   "nbconvert_exporter": "python",
   "pygments_lexer": "ipython3",
   "version": "3.7.12"
  },
  "papermill": {
   "default_parameters": {},
   "duration": 13250.048032,
   "end_time": "2022-06-21T11:22:26.310374",
   "environment_variables": {},
   "exception": null,
   "input_path": "__notebook__.ipynb",
   "output_path": "__notebook__.ipynb",
   "parameters": {},
   "start_time": "2022-06-21T07:41:36.262342",
   "version": "2.3.4"
  }
 },
 "nbformat": 4,
 "nbformat_minor": 5
}
